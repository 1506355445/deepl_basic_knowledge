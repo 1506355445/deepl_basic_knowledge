{
 "cells": [
  {
   "cell_type": "code",
   "execution_count": 1,
   "id": "744724f4-be8a-407e-a3b2-6537e3b03878",
   "metadata": {},
   "outputs": [],
   "source": [
    "from sklearn.linear_model import LinearRegression\n",
    "\n",
    "clf = LinearRegression()\n",
    "clf.fit([[0, 0], [1, 1], [2, 2]], [0, 1, 2])  # 模型训练\n",
    "'''\n",
    "y = 0.5*x1 + 0.5*x2\n",
    "'''\n",
    "pre = clf.predict([[3, 3]])   # 模型预测"
   ]
  },
  {
   "cell_type": "code",
   "execution_count": 2,
   "id": "8b99f3f5-2712-4986-9bdb-d4f5a5851cea",
   "metadata": {},
   "outputs": [
    {
     "data": {
      "text/plain": [
       "array([0.5, 0.5])"
      ]
     },
     "execution_count": 2,
     "metadata": {},
     "output_type": "execute_result"
    }
   ],
   "source": [
    "clf.coef_"
   ]
  },
  {
   "cell_type": "code",
   "execution_count": 3,
   "id": "3b5f1c4f-adfe-4b91-b711-96731654b649",
   "metadata": {},
   "outputs": [
    {
     "data": {
      "text/plain": [
       "1.1102230246251565e-16"
      ]
     },
     "execution_count": 3,
     "metadata": {},
     "output_type": "execute_result"
    }
   ],
   "source": [
    "clf.intercept_"
   ]
  },
  {
   "cell_type": "code",
   "execution_count": 4,
   "id": "daa4ca0c-b4c3-454f-879f-3dd62cfea216",
   "metadata": {},
   "outputs": [
    {
     "name": "stdout",
     "output_type": "stream",
     "text": [
      "[3.]\n"
     ]
    }
   ],
   "source": [
    "print(pre)"
   ]
  },
  {
   "cell_type": "code",
   "execution_count": 5,
   "id": "b1cf435c-a7a1-4816-8bf0-79f527c2a954",
   "metadata": {
    "scrolled": true
   },
   "outputs": [],
   "source": [
    "import pandas as pd\n",
    "from sklearn.linear_model import LogisticRegression\n",
    "from sklearn.model_selection import train_test_split\n",
    "from sklearn.metrics import classification_report\n",
    "data = pd.read_csv('LogisticRegression.csv')"
   ]
  },
  {
   "cell_type": "code",
   "execution_count": 6,
   "id": "a034ac7d-3b31-4cba-a8cc-16804fa6a27d",
   "metadata": {
    "scrolled": true
   },
   "outputs": [
    {
     "data": {
      "text/html": [
       "<div>\n",
       "<style scoped>\n",
       "    .dataframe tbody tr th:only-of-type {\n",
       "        vertical-align: middle;\n",
       "    }\n",
       "\n",
       "    .dataframe tbody tr th {\n",
       "        vertical-align: top;\n",
       "    }\n",
       "\n",
       "    .dataframe thead th {\n",
       "        text-align: right;\n",
       "    }\n",
       "</style>\n",
       "<table border=\"1\" class=\"dataframe\">\n",
       "  <thead>\n",
       "    <tr style=\"text-align: right;\">\n",
       "      <th></th>\n",
       "      <th>admit</th>\n",
       "      <th>gre</th>\n",
       "      <th>gpa</th>\n",
       "      <th>rank</th>\n",
       "    </tr>\n",
       "  </thead>\n",
       "  <tbody>\n",
       "    <tr>\n",
       "      <th>0</th>\n",
       "      <td>0</td>\n",
       "      <td>380</td>\n",
       "      <td>3.61</td>\n",
       "      <td>3</td>\n",
       "    </tr>\n",
       "    <tr>\n",
       "      <th>1</th>\n",
       "      <td>1</td>\n",
       "      <td>660</td>\n",
       "      <td>3.67</td>\n",
       "      <td>3</td>\n",
       "    </tr>\n",
       "    <tr>\n",
       "      <th>2</th>\n",
       "      <td>1</td>\n",
       "      <td>800</td>\n",
       "      <td>4.00</td>\n",
       "      <td>1</td>\n",
       "    </tr>\n",
       "    <tr>\n",
       "      <th>3</th>\n",
       "      <td>1</td>\n",
       "      <td>640</td>\n",
       "      <td>3.19</td>\n",
       "      <td>4</td>\n",
       "    </tr>\n",
       "    <tr>\n",
       "      <th>4</th>\n",
       "      <td>0</td>\n",
       "      <td>520</td>\n",
       "      <td>2.93</td>\n",
       "      <td>4</td>\n",
       "    </tr>\n",
       "  </tbody>\n",
       "</table>\n",
       "</div>"
      ],
      "text/plain": [
       "   admit  gre   gpa  rank\n",
       "0      0  380  3.61     3\n",
       "1      1  660  3.67     3\n",
       "2      1  800  4.00     1\n",
       "3      1  640  3.19     4\n",
       "4      0  520  2.93     4"
      ]
     },
     "execution_count": 6,
     "metadata": {},
     "output_type": "execute_result"
    }
   ],
   "source": [
    "data.head(5)"
   ]
  },
  {
   "cell_type": "code",
   "execution_count": 7,
   "id": "cdb701eb-fcb8-4d9f-b523-43aafda6b5df",
   "metadata": {},
   "outputs": [
    {
     "data": {
      "text/plain": [
       "(400, 4)"
      ]
     },
     "execution_count": 7,
     "metadata": {},
     "output_type": "execute_result"
    }
   ],
   "source": [
    "data.shape"
   ]
  },
  {
   "cell_type": "code",
   "execution_count": 8,
   "id": "1085a8f9-6674-4c4b-8cbf-ba62938e23a8",
   "metadata": {},
   "outputs": [
    {
     "name": "stdout",
     "output_type": "stream",
     "text": [
      "              precision    recall  f1-score   support\n",
      "\n",
      "           0       0.71      0.93      0.81        54\n",
      "           1       0.60      0.23      0.33        26\n",
      "\n",
      "    accuracy                           0.70        80\n",
      "   macro avg       0.66      0.58      0.57        80\n",
      "weighted avg       0.68      0.70      0.65        80\n",
      "\n"
     ]
    }
   ],
   "source": [
    "data_tr, data_te, label_tr, label_te = train_test_split(data.iloc[:, 1:], data['admit'], test_size=0.2)\n",
    "clf = LogisticRegression()\n",
    "clf.fit(data_tr, label_tr)\n",
    "pre = clf.predict(data_te)\n",
    "res = classification_report(label_te, pre)\n",
    "print(res)"
   ]
  },
  {
   "cell_type": "markdown",
   "id": "bafb91a3-d8fb-4dae-9295-ff7c98353675",
   "metadata": {},
   "source": [
    "### 1. 类别分析（Class 0 和 Class 1）\n",
    "### Class 0（类别 0）\n",
    "### Precision（精确率） = 0.71\n",
    "### 含义：模型预测为类别 0 的样本中，71% 是真实的类别 0。\n",
    "### 问题：存在一定误判（29% 的预测错误）。\n",
    "\n",
    "### Recall（召回率） = 0.93\n",
    "### 含义：真实为类别 0 的样本中，93% 被模型正确识别。\n",
    "### 优点：模型对类别 0 的覆盖能力很强。\n",
    "\n",
    "### F1-score（调和均值） = 0.81\n",
    "### 含义：Precision 和 Recall 的平衡值（越接近 1 越好）。\n",
    "### 结论：类别 0 的整体表现优秀。"
   ]
  }
 ],
 "metadata": {
  "kernelspec": {
   "display_name": "Python 3 (ipykernel)",
   "language": "python",
   "name": "python3"
  },
  "language_info": {
   "codemirror_mode": {
    "name": "ipython",
    "version": 3
   },
   "file_extension": ".py",
   "mimetype": "text/x-python",
   "name": "python",
   "nbconvert_exporter": "python",
   "pygments_lexer": "ipython3",
   "version": "3.8.20"
  }
 },
 "nbformat": 4,
 "nbformat_minor": 5
}
